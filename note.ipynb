{
 "cells": [
  {
   "cell_type": "markdown",
   "metadata": {},
   "source": [
    "Work with font:\n",
    "    there is many way for work with font on your project:\n",
    "    1. download fonts then put it in font folder, after that you want to declare fonts in CSS file.\n",
    "        ex: @font-fase{\n",
    "            font-family: font-name , extention-font;\n",
    "            src: url(file place);\n",
    "        }\n",
    "    2. put link tag in html file, after take tag from font web site\n",
    "        ex: <link rel=\"preconnect\" href=\"https://fonts.googleapis.com\">\n",
    "            <link rel=\"preconnect\" href=\"https://fonts.gstatic.com\" crossorigin>\n",
    "            <link href=\"https://fonts.googleapis.com/css2?family=Inter:wght@700&display=swap\" rel=\"stylesheet\">\n",
    "    3. put CSS import in CSS file\n",
    "        ex: @import url('https://fonts.googleapis.com/css2?family=Inter:wght@700&display=swap')\n"
   ]
  },
  {
   "cell_type": "markdown",
   "metadata": {},
   "source": [
    "Hint for you:\n",
    "1. create CSS file for every html file\n",
    "2. put CSS file in spreate folder\n",
    "3. put resourse like image, icon or font in spreate folder. \n",
    "4. create commen CSS file named [base.css] , for share code with many CSS file."
   ]
  },
  {
   "cell_type": "markdown",
   "metadata": {},
   "source": [
    "Base CSS file:\n",
    "1. put root variables\n",
    "2. put common CSS code.\n",
    "3. for Import base.css file , there is two way:\n",
    "    i. import css file in html file\n",
    "        ex: <link rel=\"stylesheet\" href=\"file place\">\n",
    "    ii. import css file in css file\n",
    "        ex: @import \"base.css\";"
   ]
  },
  {
   "cell_type": "markdown",
   "metadata": {},
   "source": [
    "Wbsite for help:\n",
    "1. figma\n",
    "2. dribbble\n",
    "3. framer\n",
    "4. CSS Grid Generator\n",
    "5. learn SaaS"
   ]
  }
 ],
 "metadata": {
  "language_info": {
   "name": "python"
  }
 },
 "nbformat": 4,
 "nbformat_minor": 2
}
